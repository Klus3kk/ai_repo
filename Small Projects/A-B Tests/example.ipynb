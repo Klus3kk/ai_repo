{
 "cells": [
  {
   "cell_type": "code",
   "execution_count": 1,
   "metadata": {},
   "outputs": [
    {
     "name": "stdout",
     "output_type": "stream",
     "text": [
      "  Group  Conversion\n",
      "0     A           0\n",
      "1     B           0\n",
      "2     B           0\n",
      "3     B           0\n",
      "4     A           0\n"
     ]
    }
   ],
   "source": [
    "import pandas as pd\n",
    "import numpy as np\n",
    "\n",
    "# Simulating data\n",
    "np.random.seed(42)\n",
    "n = 5000  # Total users\n",
    "group = np.random.choice(['A', 'B'], size=n, p=[0.5, 0.5])  # A and B groups\n",
    "conversions = np.where(\n",
    "    (group == 'A') & (np.random.rand(n) < 0.10), 1,  # Conversion rate 10% for A\n",
    "    np.where((group == 'B') & (np.random.rand(n) < 0.12), 1, 0)  # Conversion rate 12% for B\n",
    ")\n",
    "data = pd.DataFrame({'Group': group, 'Conversion': conversions})\n",
    "print(data.head())"
   ]
  },
  {
   "cell_type": "code",
   "execution_count": 2,
   "metadata": {},
   "outputs": [
    {
     "name": "stdout",
     "output_type": "stream",
     "text": [
      "Conversion Rates:\n",
      "Group\n",
      "A    0.1004\n",
      "B    0.1200\n",
      "Name: Conversion, dtype: float64\n"
     ]
    }
   ],
   "source": [
    "conversion_rates = data.groupby('Group')['Conversion'].mean()\n",
    "print(\"Conversion Rates:\")\n",
    "print(conversion_rates)"
   ]
  },
  {
   "cell_type": "code",
   "execution_count": 3,
   "metadata": {},
   "outputs": [
    {
     "name": "stderr",
     "output_type": "stream",
     "text": [
      "/tmp/ipykernel_2084/1269900423.py:4: FutureWarning: \n",
      "\n",
      "The `ci` parameter is deprecated. Use `errorbar=('ci', False)` for the same effect.\n",
      "\n",
      "  sns.barplot(x='Group', y='Conversion', data=data, ci=False)\n"
     ]
    },
    {
     "data": {
      "image/png": "[encoded data removed]",
      "text/plain": [
       "<Figure size 640x480 with 1 Axes>"
      ]
     },
     "metadata": {},
     "output_type": "display_data"
    }
   ],
   "source": [
    "import seaborn as sns\n",
    "import matplotlib.pyplot as plt\n",
    "\n",
    "sns.barplot(x='Group', y='Conversion', data=data, ci=False)\n",
    "plt.title(\"Conversion Rates by Group\")\n",
    "plt.show()"
   ]
  },
  {
   "cell_type": "code",
   "execution_count": 4,
   "metadata": {},
   "outputs": [
    {
     "name": "stdout",
     "output_type": "stream",
     "text": [
      "Chi-Square Statistic: 4.699357387353099, p-value: 0.030173897239870996\n",
      "Statistically significant difference!\n"
     ]
    }
   ],
   "source": [
    "from scipy.stats import chi2_contingency\n",
    "\n",
    "contingency = pd.crosstab(data['Group'], data['Conversion'])\n",
    "chi2, p, _, _ = chi2_contingency(contingency)\n",
    "\n",
    "print(f\"Chi-Square Statistic: {chi2}, p-value: {p}\")\n",
    "if p < 0.05:\n",
    "    print(\"Statistically significant difference!\")\n",
    "else:\n",
    "    print(\"No significant difference.\")"
   ]
  },
  {
   "cell_type": "code",
   "execution_count": 5,
   "metadata": {},
   "outputs": [
    {
     "name": "stdout",
     "output_type": "stream",
     "text": [
      "T-Statistic: -2.2136043047488094, p-value: 0.02690099975493781\n",
      "Statistically significant improvement!\n"
     ]
    }
   ],
   "source": [
    "from scipy.stats import ttest_ind\n",
    "\n",
    "a = data[data['Group'] == 'A']['Conversion']\n",
    "b = data[data['Group'] == 'B']['Conversion']\n",
    "t_stat, p_val = ttest_ind(a, b)\n",
    "\n",
    "print(f\"T-Statistic: {t_stat}, p-value: {p_val}\")\n",
    "if p_val < 0.05:\n",
    "    print(\"Statistically significant improvement!\")\n",
    "else:\n",
    "    print(\"No significant improvement.\")"
   ]
  }
 ],
 "metadata": {
  "kernelspec": {
   "display_name": "MLLegend",
   "language": "python",
   "name": "python3"
  },
  "language_info": {
   "codemirror_mode": {
    "name": "ipython",
    "version": 3
   },
   "file_extension": ".py",
   "mimetype": "text/x-python",
   "name": "python",
   "nbconvert_exporter": "python",
   "pygments_lexer": "ipython3",
   "version": "3.10.8"
  }
 },
 "nbformat": 4,
 "nbformat_minor": 2
}
