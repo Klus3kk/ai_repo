{
 "cells": [
  {
   "cell_type": "code",
   "execution_count": 53,
   "metadata": {},
   "outputs": [],
   "source": [
    "import requests\n",
    "import pandas as pd\n",
    "from tqdm import tqdm"
   ]
  },
  {
   "cell_type": "code",
   "execution_count": 54,
   "metadata": {},
   "outputs": [],
   "source": [
    "# Overpass API URL\n",
    "overpass_url = \"http://overpass-api.de/api/interpreter\"\n",
    "\n",
    "# Query for all features in Poland with tags\n",
    "query = \"\"\"\n",
    "[out:json][timeout:180];\n",
    "(\n",
    "  node[\"historic\"=\"monument\"](46.0,10.0,55.0,24.0);\n",
    "  node[\"tourism\"=\"attraction\"](46.0,10.0,55.0,24.0);\n",
    "  node[\"amenity\"=\"memorial\"](46.0,10.0,55.0,24.0);\n",
    "  way[\"historic\"=\"monument\"](46.0,10.0,55.0,24.0);\n",
    "  way[\"tourism\"=\"attraction\"](46.0,10.0,55.0,24.0);\n",
    "  way[\"amenity\"=\"memorial\"](46.0,10.0,55.0,24.0);\n",
    "  relation[\"historic\"=\"monument\"](46.0,10.0,55.0,24.0);\n",
    "  relation[\"tourism\"=\"attraction\"](46.0,10.0,55.0,24.0);\n",
    "  relation[\"amenity\"=\"memorial\"](46.0,10.0,55.0,24.0);\n",
    ");\n",
    "out center tags;\n",
    "\"\"\"\n",
    "\n",
    "\n",
    "\n",
    "\n",
    "# Fetch data from Overpass API\n",
    "response = requests.get(overpass_url, params={\"data\": query})\n",
    "\n",
    "if response.status_code != 200:\n",
    "    print(f\"Error: {response.status_code}\")\n",
    "    exit()\n"
   ]
  },
  {
   "cell_type": "code",
   "execution_count": 55,
   "metadata": {},
   "outputs": [
    {
     "name": "stderr",
     "output_type": "stream",
     "text": [
      "Processing data: 100%|██████████| 36014/36014 [00:00<00:00, 1142104.99it/s]\n"
     ]
    }
   ],
   "source": [
    "# Parse response\n",
    "data = response.json()\n",
    "elements = data.get(\"elements\", [])\n",
    "\n",
    "# Extract relevant data\n",
    "monuments = []\n",
    "for elem in tqdm(elements, desc=\"Processing data\"):\n",
    "    tags = elem.get(\"tags\", {})\n",
    "    lat = elem.get(\"lat\") or elem.get(\"center\", {}).get(\"lat\")\n",
    "    lon = elem.get(\"lon\") or elem.get(\"center\", {}).get(\"lon\")\n",
    "    if lat and lon:\n",
    "        monuments.append({\n",
    "            \"name\": tags.get(\"name\", \"Unnamed\"),\n",
    "            \"latitude\": lat,\n",
    "            \"longitude\": lon,\n",
    "            \"historic\": tags.get(\"historic\", \"Unknown\"),\n",
    "            \"tourism\": tags.get(\"tourism\", \"Unknown\"),\n",
    "            \"amenity\": tags.get(\"amenity\", \"Unknown\")\n",
    "        })"
   ]
  },
  {
   "cell_type": "code",
   "execution_count": 56,
   "metadata": {},
   "outputs": [],
   "source": [
    "# Convert to DataFrame\n",
    "df = pd.DataFrame(monuments)\n",
    "\n",
    "# Remove columns with too many null values\n",
    "threshold = 0.9  # Keep columns with at least 10% non-null values\n",
    "df = df.loc[:, df.isnull().mean() < threshold]\n"
   ]
  },
  {
   "cell_type": "code",
   "execution_count": 57,
   "metadata": {},
   "outputs": [],
   "source": [
    "# Remove irrelevant place types dynamically\n",
    "exclude_place_types = [\"neighbourhood\", \"peak\", \"waterway\"]\n",
    "if \"place\" in df.columns:\n",
    "    df = df[~df[\"place\"].isin(exclude_place_types)]\n",
    "\n",
    "# Drop duplicates\n",
    "df = df.drop_duplicates(subset=[\"name\", \"latitude\", \"longitude\"])"
   ]
  },
  {
   "cell_type": "code",
   "execution_count": 58,
   "metadata": {},
   "outputs": [
    {
     "data": {
      "text/plain": [
       "name         0\n",
       "latitude     0\n",
       "longitude    0\n",
       "historic     0\n",
       "tourism      0\n",
       "amenity      0\n",
       "dtype: int64"
      ]
     },
     "execution_count": 58,
     "metadata": {},
     "output_type": "execute_result"
    }
   ],
   "source": [
    "df.isnull().sum()"
   ]
  },
  {
   "cell_type": "code",
   "execution_count": 59,
   "metadata": {},
   "outputs": [
    {
     "name": "stdout",
     "output_type": "stream",
     "text": [
      "Index(['name', 'latitude', 'longitude', 'historic', 'tourism', 'amenity'], dtype='object')\n"
     ]
    }
   ],
   "source": [
    "print(df.columns)\n",
    "df = df[['name', 'latitude', 'longitude']]\n",
    "df = df[\n",
    "    (df[\"latitude\"] >= 49.0) & (df[\"latitude\"] <= 55.0) &\n",
    "    (df[\"longitude\"] >= 14.0) & (df[\"longitude\"] <= 24.0)\n",
    "]"
   ]
  },
  {
   "cell_type": "code",
   "execution_count": 60,
   "metadata": {},
   "outputs": [
    {
     "data": {
      "text/plain": [
       "array(['Vlčí rokle', 'Vodní tunel pod tratí', 'Hrad Šternberk', ...,\n",
       "       'Pomnik Poległych Stoczniowców w Gdańsku', 'Staw Kormoranów',\n",
       "       'Molo Kołobrzeg'], dtype=object)"
      ]
     },
     "execution_count": 60,
     "metadata": {},
     "output_type": "execute_result"
    }
   ],
   "source": [
    "to_remove = [\"Poland\", \"West Poland\", \"South Poland\", \"South Poland\", \"East Poland\"]  \n",
    "df = df[~df['name'].isin(to_remove)]  \n",
    "df['name'].unique()"
   ]
  },
  {
   "cell_type": "code",
   "execution_count": 61,
   "metadata": {},
   "outputs": [
    {
     "name": "stdout",
     "output_type": "stream",
     "text": [
      "\n",
      "Total Monuments Retrieved: 16566\n",
      "                     name   latitude  longitude\n",
      "0              Vlčí rokle  49.874643  14.531274\n",
      "1   Vodní tunel pod tratí  49.872497  14.514091\n",
      "3          Hrad Šternberk  49.733078  17.301858\n",
      "14              Giszowiec  50.221804  19.067786\n",
      "22     Krypta Oleśnickich  50.859276  21.053433\n"
     ]
    }
   ],
   "source": [
    "print(f\"\\nTotal Monuments Retrieved: {len(df)}\")\n",
    "print(df.head())"
   ]
  },
  {
   "cell_type": "code",
   "execution_count": 62,
   "metadata": {},
   "outputs": [],
   "source": [
    "# Save to CSV\n",
    "df.to_csv(\"poland_monuments_filtered.csv\", index=False)"
   ]
  }
 ],
 "metadata": {
  "kernelspec": {
   "display_name": "MLLegend",
   "language": "python",
   "name": "python3"
  },
  "language_info": {
   "codemirror_mode": {
    "name": "ipython",
    "version": 3
   },
   "file_extension": ".py",
   "mimetype": "text/x-python",
   "name": "python",
   "nbconvert_exporter": "python",
   "pygments_lexer": "ipython3",
   "version": "3.10.8"
  }
 },
 "nbformat": 4,
 "nbformat_minor": 2
}
