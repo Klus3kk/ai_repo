{
 "cells": [
  {
   "cell_type": "code",
   "execution_count": 7,
   "metadata": {},
   "outputs": [],
   "source": [
    "import requests\n",
    "import pandas as pd\n",
    "import osmnx as ox\n",
    "import geopandas as gpd"
   ]
  },
  {
   "cell_type": "code",
   "execution_count": 8,
   "metadata": {},
   "outputs": [],
   "source": [
    "# SPARQL query to fetch monuments in Poland\n",
    "query = \"\"\"\n",
    "SELECT ?item ?itemLabel ?location ?coordinates ?inception ?description WHERE {\n",
    "  ?item wdt:P31 wd:Q4989906. # Instance of 'cultural heritage monument'\n",
    "  ?item wdt:P17 wd:Q36.      # Located in Poland\n",
    "  OPTIONAL { ?item wdt:P625 ?coordinates. } # Coordinates\n",
    "  OPTIONAL { ?item wdt:P276 ?location. }    # Location\n",
    "  OPTIONAL { ?item wdt:P571 ?inception. }   # Year built\n",
    "  OPTIONAL { ?item schema:description ?description. FILTER (LANG(?description) = \"en\") }\n",
    "  SERVICE wikibase:label { bd:serviceParam wikibase:language \"[AUTO_LANGUAGE],en\". }\n",
    "}\n",
    "\"\"\"\n",
    "\n",
    "# Wikidata SPARQL endpoint\n",
    "url = \"https://query.wikidata.org/sparql\"\n",
    "response = requests.get(url, params={\"query\": query, \"format\": \"json\"})\n",
    "data = response.json()"
   ]
  },
  {
   "cell_type": "code",
   "execution_count": 9,
   "metadata": {},
   "outputs": [],
   "source": [
    "monuments = data[\"results\"][\"bindings\"]\n",
    "df_wikidata = pd.DataFrame([\n",
    "    {\n",
    "        \"name\": item[\"itemLabel\"][\"value\"],\n",
    "        \"coordinates\": item.get(\"coordinates\", {}).get(\"value\", None),\n",
    "        \"location\": item.get(\"location\", {}).get(\"value\", None),\n",
    "        \"year_built\": item.get(\"inception\", {}).get(\"value\", None),\n",
    "        \"description\": item.get(\"description\", {}).get(\"value\", None)\n",
    "    }\n",
    "    for item in monuments\n",
    "])"
   ]
  },
  {
   "cell_type": "code",
   "execution_count": 10,
   "metadata": {},
   "outputs": [
    {
     "name": "stdout",
     "output_type": "stream",
     "text": [
      "                                name                 coordinates location  \\\n",
      "1                          Q11823240      Point(16.9472 52.4127)     None   \n",
      "2  Jan Kochanowski monument in Radom  Point(21.158056 51.400389)     None   \n",
      "3    John Paul II Monument in Kalisz       Point(18.0935 51.763)     None   \n",
      "4    John Paul II Monument in Leszno      Point(16.5924 51.8472)     None   \n",
      "5                          Q11823244      Point(19.9966 50.0946)     None   \n",
      "\n",
      "  year_built                 description   latitude  longitude  \n",
      "1       None  monument in Poznań, Poland  16.947200  52.412700  \n",
      "2       None          monument in Poland  21.158056  51.400389  \n",
      "3       None  monument in Kalisz, Poland  18.093500  51.763000  \n",
      "4       None  monument in Leszno, Poland  16.592400  51.847200  \n",
      "5       None  monument in Kraków, Poland  19.996600  50.094600  \n"
     ]
    }
   ],
   "source": [
    "# Split coordinates into latitude and longitude\n",
    "df_wikidata[[\"latitude\", \"longitude\"]] = df_wikidata[\"coordinates\"].str.extract(r'Point\\((.*?) (.*?)\\)')\n",
    "df_wikidata[\"latitude\"] = pd.to_numeric(df_wikidata[\"latitude\"])\n",
    "df_wikidata[\"longitude\"] = pd.to_numeric(df_wikidata[\"longitude\"])\n",
    "\n",
    "# Drop rows without coordinates\n",
    "df_wikidata.dropna(subset=[\"latitude\", \"longitude\"], inplace=True)\n",
    "\n",
    "# Preview the data\n",
    "print(df_wikidata.head())"
   ]
  },
  {
   "cell_type": "code",
   "execution_count": 11,
   "metadata": {},
   "outputs": [
    {
     "ename": "AttributeError",
     "evalue": "'GeoDataFrame' object has no attribute 'append'",
     "output_type": "error",
     "traceback": [
      "\u001b[0;31m---------------------------------------------------------------------------\u001b[0m",
      "\u001b[0;31mAttributeError\u001b[0m                            Traceback (most recent call last)",
      "\u001b[0;32m/tmp/ipykernel_2797/2067608541.py\u001b[0m in \u001b[0;36m?\u001b[0;34m()\u001b[0m\n\u001b[1;32m      1\u001b[0m \u001b[0;31m# Define the place and tags\u001b[0m\u001b[0;34m\u001b[0m\u001b[0;34m\u001b[0m\u001b[0m\n\u001b[1;32m      2\u001b[0m \u001b[0mtags\u001b[0m \u001b[0;34m=\u001b[0m \u001b[0;34m{\u001b[0m\u001b[0;34m\"historic\"\u001b[0m\u001b[0;34m:\u001b[0m \u001b[0;32mTrue\u001b[0m\u001b[0;34m}\u001b[0m\u001b[0;34m\u001b[0m\u001b[0;34m\u001b[0m\u001b[0m\n\u001b[1;32m      3\u001b[0m \u001b[0;34m\u001b[0m\u001b[0m\n\u001b[1;32m      4\u001b[0m \u001b[0;31m# Query using osmnx\u001b[0m\u001b[0;34m\u001b[0m\u001b[0;34m\u001b[0m\u001b[0m\n\u001b[0;32m----> 5\u001b[0;31m \u001b[0mgdf_osm\u001b[0m \u001b[0;34m=\u001b[0m \u001b[0mox\u001b[0m\u001b[0;34m.\u001b[0m\u001b[0mgeometries\u001b[0m\u001b[0;34m.\u001b[0m\u001b[0mgeometries_from_place\u001b[0m\u001b[0;34m(\u001b[0m\u001b[0;34m\"Poland\"\u001b[0m\u001b[0;34m,\u001b[0m \u001b[0mtags\u001b[0m\u001b[0;34m)\u001b[0m\u001b[0;34m\u001b[0m\u001b[0;34m\u001b[0m\u001b[0m\n\u001b[0m\u001b[1;32m      6\u001b[0m \u001b[0;34m\u001b[0m\u001b[0m\n\u001b[1;32m      7\u001b[0m \u001b[0;31m# Reset the index and extract relevant columns\u001b[0m\u001b[0;34m\u001b[0m\u001b[0;34m\u001b[0m\u001b[0m\n\u001b[1;32m      8\u001b[0m \u001b[0mgdf_osm\u001b[0m \u001b[0;34m=\u001b[0m \u001b[0mgdf_osm\u001b[0m\u001b[0;34m.\u001b[0m\u001b[0mreset_index\u001b[0m\u001b[0;34m(\u001b[0m\u001b[0;34m)\u001b[0m\u001b[0;34m[\u001b[0m\u001b[0;34m[\u001b[0m\u001b[0;34m\"name\"\u001b[0m\u001b[0;34m,\u001b[0m \u001b[0;34m\"geometry\"\u001b[0m\u001b[0;34m]\u001b[0m\u001b[0;34m]\u001b[0m\u001b[0;34m\u001b[0m\u001b[0;34m\u001b[0m\u001b[0m\n",
      "\u001b[0;32m~/miniconda3/envs/MLLegend/lib/python3.10/site-packages/osmnx/geometries.py\u001b[0m in \u001b[0;36m?\u001b[0;34m(query, tags, which_result, buffer_dist)\u001b[0m\n",
      "\u001b[0;32m~/miniconda3/envs/MLLegend/lib/python3.10/site-packages/osmnx/geocoder.py\u001b[0m in \u001b[0;36m?\u001b[0;34m(query, which_result, by_osmid, buffer_dist)\u001b[0m\n",
      "\u001b[0;32m~/miniconda3/envs/MLLegend/lib/python3.10/site-packages/pandas/core/generic.py\u001b[0m in \u001b[0;36m?\u001b[0;34m(self, name)\u001b[0m\n\u001b[1;32m   6295\u001b[0m             \u001b[0;32mand\u001b[0m \u001b[0mname\u001b[0m \u001b[0;32mnot\u001b[0m \u001b[0;32min\u001b[0m \u001b[0mself\u001b[0m\u001b[0;34m.\u001b[0m\u001b[0m_accessors\u001b[0m\u001b[0;34m\u001b[0m\u001b[0;34m\u001b[0m\u001b[0m\n\u001b[1;32m   6296\u001b[0m             \u001b[0;32mand\u001b[0m \u001b[0mself\u001b[0m\u001b[0;34m.\u001b[0m\u001b[0m_info_axis\u001b[0m\u001b[0;34m.\u001b[0m\u001b[0m_can_hold_identifiers_and_holds_name\u001b[0m\u001b[0;34m(\u001b[0m\u001b[0mname\u001b[0m\u001b[0;34m)\u001b[0m\u001b[0;34m\u001b[0m\u001b[0;34m\u001b[0m\u001b[0m\n\u001b[1;32m   6297\u001b[0m         ):\n\u001b[1;32m   6298\u001b[0m             \u001b[0;32mreturn\u001b[0m \u001b[0mself\u001b[0m\u001b[0;34m[\u001b[0m\u001b[0mname\u001b[0m\u001b[0;34m]\u001b[0m\u001b[0;34m\u001b[0m\u001b[0;34m\u001b[0m\u001b[0m\n\u001b[0;32m-> 6299\u001b[0;31m         \u001b[0;32mreturn\u001b[0m \u001b[0mobject\u001b[0m\u001b[0;34m.\u001b[0m\u001b[0m__getattribute__\u001b[0m\u001b[0;34m(\u001b[0m\u001b[0mself\u001b[0m\u001b[0;34m,\u001b[0m \u001b[0mname\u001b[0m\u001b[0;34m)\u001b[0m\u001b[0;34m\u001b[0m\u001b[0;34m\u001b[0m\u001b[0m\n\u001b[0m",
      "\u001b[0;31mAttributeError\u001b[0m: 'GeoDataFrame' object has no attribute 'append'"
     ]
    }
   ],
   "source": [
    "# Define the place and tags\n",
    "tags = {\"historic\": True}\n",
    "\n",
    "# Query using osmnx\n",
    "gdf_osm = ox.geometries.geometries_from_place(\"Poland\", tags)\n",
    "\n",
    "# Reset the index and extract relevant columns\n",
    "gdf_osm = gdf_osm.reset_index()[[\"name\", \"geometry\"]]\n",
    "\n",
    "# Extract latitude and longitude\n",
    "gdf_osm[\"latitude\"] = gdf_osm.geometry.y\n",
    "gdf_osm[\"longitude\"] = gdf_osm.geometry.x\n",
    "\n",
    "# Drop rows without names\n",
    "gdf_osm = gdf_osm.dropna(subset=[\"name\"])\n",
    "\n",
    "# Preview the data\n",
    "print(gdf_osm.head())"
   ]
  },
  {
   "cell_type": "code",
   "execution_count": null,
   "metadata": {},
   "outputs": [],
   "source": [
    "# Combine datasets\n",
    "df_combined = pd.concat([df_wikidata, df_osm], ignore_index=True)\n",
    "\n",
    "# Drop duplicates by name and coordinates\n",
    "df_combined = df_combined.drop_duplicates(subset=[\"name\", \"latitude\", \"longitude\"])\n",
    "\n",
    "# Fill missing values in key columns (if applicable)\n",
    "df_combined[\"description\"].fillna(\"No description available\", inplace=True)\n",
    "\n",
    "# Save the dataset to CSV\n",
    "df_combined.to_csv(\"poland_monuments_dataset.csv\", index=False)\n",
    "\n",
    "# Preview combined dataset\n",
    "print(df_combined.head())"
   ]
  }
 ],
 "metadata": {
  "kernelspec": {
   "display_name": "MLLegend",
   "language": "python",
   "name": "python3"
  },
  "language_info": {
   "codemirror_mode": {
    "name": "ipython",
    "version": 3
   },
   "file_extension": ".py",
   "mimetype": "text/x-python",
   "name": "python",
   "nbconvert_exporter": "python",
   "pygments_lexer": "ipython3",
   "version": "3.10.8"
  }
 },
 "nbformat": 4,
 "nbformat_minor": 2
}
